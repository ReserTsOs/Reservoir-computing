{
 "cells": [
  {
   "cell_type": "markdown",
   "id": "117f2f57",
   "metadata": {},
   "source": [
    "## リザバーコンピューティング\n",
    "参考：\\\n",
    "「リザバーコンピューティング 時系列パターン認識のための高速機械学習の理論とハードウェア 田中剛平・中根了昌・廣瀬明[共著]」\\\n",
    "https://www.morikita.co.jp/books/mid/085531"
   ]
  },
  {
   "cell_type": "markdown",
   "id": "58c7812a",
   "metadata": {},
   "source": [
    "### ・中間層のネットワークの作成\n",
    "・作成の流れ\\\n",
    "1, 全結合のネットワーク(0と1の正方行列)を作成する。\\\n",
    "2, 指定の密度になるまでランダムに枝切りをする\\\n",
    "→ スパースなネットワークの完成"
   ]
  },
  {
   "cell_type": "code",
   "execution_count": 1,
   "id": "40f6ffcc",
   "metadata": {},
   "outputs": [],
   "source": [
    "import networkx as nx\n",
    "import numpy as np\n",
    "import matplotlib.pyplot as plt\n",
    "import random"
   ]
  },
  {
   "cell_type": "markdown",
   "id": "4df7b994",
   "metadata": {},
   "source": [
    "### 1, 全結合のネットワークを作成する\n",
    "引数：ノード数 node\\\n",
    "戻り値：全結合の行列 w"
   ]
  },
  {
   "cell_type": "code",
   "execution_count": 4,
   "id": "09996066",
   "metadata": {},
   "outputs": [],
   "source": [
    "def AllConnect(node):\n",
    "    \n",
    "    w = np.zeros((node,node))\n",
    "    for i in range(node):\n",
    "        for j in range(node):\n",
    "            if i != j:\n",
    "                w[i,j]=1\n",
    "                    \n",
    "    return w"
   ]
  },
  {
   "cell_type": "markdown",
   "id": "7c7472b9",
   "metadata": {},
   "source": [
    "#### 確認する"
   ]
  },
  {
   "cell_type": "code",
   "execution_count": 5,
   "id": "bc3a4a70",
   "metadata": {},
   "outputs": [
    {
     "data": {
      "text/plain": [
       "array([[0., 1., 1., 1., 1.],\n",
       "       [1., 0., 1., 1., 1.],\n",
       "       [1., 1., 0., 1., 1.],\n",
       "       [1., 1., 1., 0., 1.],\n",
       "       [1., 1., 1., 1., 0.]])"
      ]
     },
     "execution_count": 5,
     "metadata": {},
     "output_type": "execute_result"
    }
   ],
   "source": [
    "node = 5\n",
    "AllConnect(node)"
   ]
  },
  {
   "cell_type": "code",
   "execution_count": null,
   "id": "da79b5db",
   "metadata": {},
   "outputs": [],
   "source": []
  },
  {
   "cell_type": "code",
   "execution_count": null,
   "id": "482fefa2",
   "metadata": {},
   "outputs": [],
   "source": []
  },
  {
   "cell_type": "markdown",
   "id": "d992b262",
   "metadata": {},
   "source": [
    "### 2, 枝切りする\n",
    "引数1：ネットワークを表す結合行列 w\\\n",
    "引数2：密度 density\\\n",
    "戻り値：指定の密度の結合行列 w"
   ]
  },
  {
   "cell_type": "markdown",
   "id": "e9be83e7",
   "metadata": {},
   "source": [
    "### 枝切りのために必要となるステップ\n",
    "1, 引数として渡された結合行列の結合数を把握する。\\\n",
    "2, 指定の密度にするために残すべき枝の数を把握する。"
   ]
  },
  {
   "cell_type": "markdown",
   "id": "45a68b7d",
   "metadata": {},
   "source": [
    "### 1, 引数として渡された結合行列の結合数を把握する\n",
    "### reserch_graph(w)\n",
    "引数：結合行列\\\n",
    "戻り値：結合がある座標をリストにしたもの\\\n",
    "(例)ノード1とノード5に結合がある場合は (0,4)を返す"
   ]
  },
  {
   "cell_type": "code",
   "execution_count": 7,
   "id": "b12d779c",
   "metadata": {},
   "outputs": [],
   "source": [
    "def reserch_graph(w):\n",
    "    \n",
    "    access_list = []\n",
    "    n1, n2 = w.nonzero()\n",
    "        \n",
    "    for nn1, nn2 in zip(n1, n2):\n",
    "        l1 = [nn1,nn2]\n",
    "        access_list.append(l1)\n",
    "    \n",
    "    return access_list"
   ]
  },
  {
   "cell_type": "markdown",
   "id": "331fb42b",
   "metadata": {},
   "source": [
    "#### 確認する\n",
    "ノード数=5, 全結合の場合で確認する。\\\n",
    "結合数が5×(5-1)=20になっていればOK"
   ]
  },
  {
   "cell_type": "code",
   "execution_count": 9,
   "id": "200b6ebc",
   "metadata": {},
   "outputs": [
    {
     "data": {
      "text/plain": [
       "True"
      ]
     },
     "execution_count": 9,
     "metadata": {},
     "output_type": "execute_result"
    }
   ],
   "source": [
    "node = 5\n",
    "w_all = AllConnect(node) #全結合のネットワークを作成\n",
    "access_list = reserch_graph(w_all) #結合を確認\n",
    "len(access_list) == 20"
   ]
  },
  {
   "cell_type": "code",
   "execution_count": 13,
   "id": "204bd0be",
   "metadata": {
    "collapsed": true
   },
   "outputs": [
    {
     "data": {
      "text/plain": [
       "[[0, 1],\n",
       " [0, 2],\n",
       " [0, 3],\n",
       " [0, 4],\n",
       " [1, 0],\n",
       " [1, 2],\n",
       " [1, 3],\n",
       " [1, 4],\n",
       " [2, 0],\n",
       " [2, 1],\n",
       " [2, 3],\n",
       " [2, 4],\n",
       " [3, 0],\n",
       " [3, 1],\n",
       " [3, 2],\n",
       " [3, 4],\n",
       " [4, 0],\n",
       " [4, 1],\n",
       " [4, 2],\n",
       " [4, 3]]"
      ]
     },
     "execution_count": 13,
     "metadata": {},
     "output_type": "execute_result"
    }
   ],
   "source": [
    "access_list"
   ]
  },
  {
   "cell_type": "code",
   "execution_count": null,
   "id": "2227342f",
   "metadata": {},
   "outputs": [],
   "source": []
  },
  {
   "cell_type": "code",
   "execution_count": null,
   "id": "a9b0667e",
   "metadata": {},
   "outputs": [],
   "source": []
  },
  {
   "cell_type": "markdown",
   "id": "80866c06",
   "metadata": {},
   "source": [
    "### 2, 指定の密度にするために残すべき枝の数を把握する。\n",
    "### check_pathnum\n",
    "引数1：ノード数 node\\\n",
    "引数2：結合密度 density\\\n",
    "戻り値：必要な結合数(枝の数)\\\n",
    "(例) ノード数=5, 結合密度=0.1の場合、5×(5-1)×0.1=2本を返す。"
   ]
  },
  {
   "cell_type": "code",
   "execution_count": 14,
   "id": "57058c65",
   "metadata": {},
   "outputs": [],
   "source": [
    "def check_pathnum(node,density):\n",
    "    m = node*(node-1)\n",
    "    path_num = int(m*density)\n",
    "    \n",
    "    return path_num"
   ]
  },
  {
   "cell_type": "code",
   "execution_count": null,
   "id": "c3ff165f",
   "metadata": {},
   "outputs": [],
   "source": []
  },
  {
   "cell_type": "markdown",
   "id": "231d6bb9",
   "metadata": {},
   "source": [
    "#### 確認する\n",
    "(例) ノード数=5, 結合密度=0.1の場合、5×(5-1)×0.1=2本になればOK"
   ]
  },
  {
   "cell_type": "code",
   "execution_count": 16,
   "id": "be0d9b91",
   "metadata": {},
   "outputs": [
    {
     "data": {
      "text/plain": [
       "True"
      ]
     },
     "execution_count": 16,
     "metadata": {},
     "output_type": "execute_result"
    }
   ],
   "source": [
    "node = 5\n",
    "density = 0.1\n",
    "check_pathnum(node,density)==2"
   ]
  },
  {
   "cell_type": "code",
   "execution_count": null,
   "id": "89fd4a66",
   "metadata": {},
   "outputs": [],
   "source": []
  },
  {
   "cell_type": "markdown",
   "id": "48232801",
   "metadata": {},
   "source": [
    "### スパースネットワークの作成\n",
    "### make_sparse_graph\n",
    "check_pathnumとreserch_graphを使って作成する\\\n",
    "\n",
    "引数1：結合行列 w\\\n",
    "引数2：ノード数 node\\\n",
    "引数3：結合密度 density\\\n",
    "戻り値：スパースな結合行列"
   ]
  },
  {
   "cell_type": "code",
   "execution_count": 21,
   "id": "721e0682",
   "metadata": {},
   "outputs": [],
   "source": [
    "def make_sparse_graph(w,node,density):\n",
    "    \n",
    "    path_num = check_pathnum(node,density) #残すべき結合数の計算\n",
    "    access_list = reserch_graph(w) #結合状態の確認\n",
    "    length = len(access_list)\n",
    "        \n",
    "    access_num = np.arange(length)\n",
    "    random.shuffle(access_num)\n",
    "    \n",
    "    for i in range( length-path_num ):\n",
    "        \n",
    "        num = access_num[i]\n",
    "    \n",
    "        remove_1 = access_list[num][0]\n",
    "        remove_2 = access_list[num][1]\n",
    "    \n",
    "        w[remove_1,remove_2] = 0\n",
    "    \n",
    "    return w"
   ]
  },
  {
   "cell_type": "code",
   "execution_count": null,
   "id": "10585372",
   "metadata": {},
   "outputs": [],
   "source": []
  },
  {
   "cell_type": "markdown",
   "id": "9706a4f4",
   "metadata": {},
   "source": [
    "#### 確認する\n",
    "テスト1：\\\n",
    "「全結合 → node=5, density=0.5」の時でテストする。\\\n",
    "結合数=10(5×4×0.5)になっていればOK"
   ]
  },
  {
   "cell_type": "code",
   "execution_count": 23,
   "id": "a356d30a",
   "metadata": {},
   "outputs": [
    {
     "data": {
      "text/plain": [
       "array([[0., 1., 1., 1., 1.],\n",
       "       [1., 0., 1., 1., 0.],\n",
       "       [0., 0., 0., 0., 0.],\n",
       "       [0., 0., 1., 0., 0.],\n",
       "       [1., 0., 0., 1., 0.]])"
      ]
     },
     "execution_count": 23,
     "metadata": {},
     "output_type": "execute_result"
    }
   ],
   "source": [
    "node = 5\n",
    "density = 0.5\n",
    "w_all = AllConnect(node) #全結合のネットワークを作成\n",
    "w_sparse = make_sparse_graph(w_all,node,density)\n",
    "w_sparse"
   ]
  },
  {
   "cell_type": "code",
   "execution_count": null,
   "id": "329e521a",
   "metadata": {},
   "outputs": [],
   "source": []
  },
  {
   "cell_type": "markdown",
   "id": "a061aec0",
   "metadata": {},
   "source": [
    "テスト2：\\\n",
    "「node=5,density=0.5 → node=5, density=0.1」の時でテストする。\\\n",
    "結合数=2(5×4×0.1)になっていればOK"
   ]
  },
  {
   "cell_type": "code",
   "execution_count": 25,
   "id": "1683844a",
   "metadata": {},
   "outputs": [
    {
     "data": {
      "text/plain": [
       "array([[0., 0., 0., 0., 1.],\n",
       "       [1., 0., 0., 0., 0.],\n",
       "       [0., 0., 0., 0., 0.],\n",
       "       [0., 0., 0., 0., 0.],\n",
       "       [0., 0., 0., 0., 0.]])"
      ]
     },
     "execution_count": 25,
     "metadata": {},
     "output_type": "execute_result"
    }
   ],
   "source": [
    "density = 0.1\n",
    "w_sparse_af = make_sparse_graph(w_sparse,node,density)\n",
    "w_sparse_af"
   ]
  },
  {
   "cell_type": "code",
   "execution_count": null,
   "id": "d34e3f1f",
   "metadata": {},
   "outputs": [],
   "source": []
  },
  {
   "cell_type": "code",
   "execution_count": null,
   "id": "2334b0cc",
   "metadata": {},
   "outputs": [],
   "source": []
  }
 ],
 "metadata": {
  "kernelspec": {
   "display_name": "Python 3",
   "language": "python",
   "name": "python3"
  },
  "language_info": {
   "codemirror_mode": {
    "name": "ipython",
    "version": 3
   },
   "file_extension": ".py",
   "mimetype": "text/x-python",
   "name": "python",
   "nbconvert_exporter": "python",
   "pygments_lexer": "ipython3",
   "version": "3.8.8"
  }
 },
 "nbformat": 4,
 "nbformat_minor": 5
}
