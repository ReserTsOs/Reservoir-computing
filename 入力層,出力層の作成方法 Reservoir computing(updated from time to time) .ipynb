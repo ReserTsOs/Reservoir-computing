{
 "cells": [
  {
   "cell_type": "markdown",
   "id": "60271e81",
   "metadata": {},
   "source": [
    "## リザバーコンピューティング\n",
    "参考：\\\n",
    "「リザバーコンピューティング 時系列パターン認識のための高速機械学習の理論とハードウェア 田中剛平・中根了昌・廣瀬明[共著]」\\\n",
    "https://www.morikita.co.jp/books/mid/085531"
   ]
  },
  {
   "cell_type": "code",
   "execution_count": 1,
   "id": "ddc6f97e",
   "metadata": {},
   "outputs": [],
   "source": [
    "import networkx as nx\n",
    "import numpy as np\n",
    "import matplotlib.pyplot as plt\n",
    "import random"
   ]
  },
  {
   "cell_type": "markdown",
   "id": "ef088fa5",
   "metadata": {},
   "source": [
    "### 入力層について\n",
    "入力データ：u_data\\\n",
    "入力データの次元：Nu\\\n",
    "中間層(リザバー層)のノード数：Nx\\\n",
    "入力スケーリング, 入力層の結合重み行列：input_scale, w_in\\\n",
    "w_in := -input_scale〜input_scaleの範囲の一様分布に従う乱数\\\n",
    "w_inのshapeは(Nx × Nu)になる。\\\n",
    "→ 重み行列 ? × 入力データ次元 Nu = リザバーの次元(ノード数) Nx \\\n",
    "→ ? = Nx × Nuになる。"
   ]
  },
  {
   "cell_type": "code",
   "execution_count": 21,
   "id": "7cfec938",
   "metadata": {},
   "outputs": [],
   "source": [
    "def Input(u_data, Nu, Nx, input_scale):\n",
    "    \n",
    "    np.random.seed(seed=0)\n",
    "    w_in = np.random.uniform(-input_scale, input_scale, (Nx,Nu) )\n",
    "    \n",
    "    return np.dot(w_in,u_data)"
   ]
  },
  {
   "cell_type": "markdown",
   "id": "ab6cd5f9",
   "metadata": {},
   "source": [
    "### 確認する\n",
    "入力データ：5×1\\\n",
    "リザバーノード数：3\\\n",
    "入力結合重み行列：3×5\\\n",
    "出力される結果：3×1"
   ]
  },
  {
   "cell_type": "code",
   "execution_count": 22,
   "id": "e5722565",
   "metadata": {},
   "outputs": [
    {
     "data": {
      "text/plain": [
       "array([[1.17057819],\n",
       "       [4.93649235],\n",
       "       [0.22243081]])"
      ]
     },
     "execution_count": 22,
     "metadata": {},
     "output_type": "execute_result"
    }
   ],
   "source": [
    "### 入力データの作成\n",
    "data = np.arange(1,6)\n",
    "\n",
    "### 二次元データに変換：5 → 5×1\n",
    "data = data.reshape(-1,1)\n",
    "\n",
    "### 各パラメータの設定\n",
    "Nu, Nx = data.shape[0], 3\n",
    "input_scale = 1\n",
    "\n",
    "### Input関数実行\n",
    "Input(data,Nu,Nx,input_scale)"
   ]
  },
  {
   "cell_type": "code",
   "execution_count": null,
   "id": "8336ac45",
   "metadata": {},
   "outputs": [],
   "source": []
  },
  {
   "cell_type": "markdown",
   "id": "b1af4bd5",
   "metadata": {},
   "source": [
    "### 出力層について\n",
    "リザバー層からのデータ：x_data\\\n",
    "リザバーのノード数(次元数)：Nx\\\n",
    "出力層のノード数：Ny\\\n",
    "出力スケーリング, 出力層の結合重み行列：output_scale, w_out\\\n",
    "w_out := -output_scale〜output_scaleの範囲の一様分布に従う乱数\\\n",
    "w_outのshapeは(Ny × Nx)になる。\\\n",
    "→ 重み行列 ? × リザバーのノード数 Nx = 出力層のノード数 Ny \\\n",
    "→ ? = Ny × Nxになる。"
   ]
  },
  {
   "cell_type": "code",
   "execution_count": 25,
   "id": "dc85d311",
   "metadata": {},
   "outputs": [],
   "source": [
    "def Output(x_data, Nx, Ny, output_scale):\n",
    "    \n",
    "    np.random.seed(seed=0)\n",
    "    w_out = np.random.uniform(-output_scale, output_scale, (Ny,Nx) )\n",
    "    \n",
    "    return np.dot(w_out,x_data)"
   ]
  },
  {
   "cell_type": "code",
   "execution_count": null,
   "id": "cc421d4c",
   "metadata": {},
   "outputs": [],
   "source": []
  },
  {
   "cell_type": "markdown",
   "id": "99e20d67",
   "metadata": {},
   "source": [
    "### 確認する\n",
    "出力層のノード数：5×1\\\n",
    "リザバーノード数：3\\\n",
    "出力結合重み行列：5×3\\\n",
    "出力される結果：5×1"
   ]
  },
  {
   "cell_type": "code",
   "execution_count": 27,
   "id": "f3cdc252",
   "metadata": {},
   "outputs": [
    {
     "data": {
      "text/plain": [
       "array([[1.17057819],\n",
       "       [4.93649235],\n",
       "       [0.22243081],\n",
       "       [5.17622675],\n",
       "       [0.34972478]])"
      ]
     },
     "execution_count": 27,
     "metadata": {},
     "output_type": "execute_result"
    }
   ],
   "source": [
    "### リザバー層からのデータの作成\n",
    "data = np.arange(1,6)\n",
    "\n",
    "### 二次元データに変換：5 → 5×1\n",
    "data = data.reshape(-1,1)\n",
    "\n",
    "### 各パラメータの設定\n",
    "Nx, Ny = data.shape[0], 3\n",
    "input_scale = 1\n",
    "\n",
    "### Output関数実行\n",
    "Output(data,Nu,Nx,input_scale)"
   ]
  },
  {
   "cell_type": "code",
   "execution_count": null,
   "id": "c85b1fe6",
   "metadata": {},
   "outputs": [],
   "source": []
  },
  {
   "cell_type": "markdown",
   "id": "e3e45e9c",
   "metadata": {},
   "source": [
    "## ==== Appendex ====\n",
    "### フィードバック層について\n",
    "出力層からのデータ：y_data\\\n",
    "リザバーのノード数(次元数)：Nx\\\n",
    "出力層からデータ数：Ny\\\n",
    "フィードバックスケーリング, フィードバック層の結合重み行列：fb_scale, w_fb\\\n",
    "w_fb := -fb_scale〜fb_scaleの範囲の一様分布に従う乱数\\\n",
    "w_fbのshapeは(Nx × Ny)になる。\\\n",
    "→ fb重み行列 ? × 出力層のノード数 Ny = リザバー層のノード数 Nx \\\n",
    "→ ? = Nx × Nyになる。"
   ]
  },
  {
   "cell_type": "code",
   "execution_count": 28,
   "id": "d3c0c6de",
   "metadata": {},
   "outputs": [],
   "source": [
    "def Feedback(y_data, Nx, Ny, fb_scale):\n",
    "    \n",
    "    np.random.seed(seed=0)\n",
    "    w_fb = np.random.uniform(-fb_scale, fb_scale, (Nx,Ny) )\n",
    "    \n",
    "    return np.dot(w_fb,y_data)"
   ]
  },
  {
   "cell_type": "markdown",
   "id": "efb1e740",
   "metadata": {},
   "source": [
    "### 確認する\n",
    "リザバー層のノード数：5×1\\\n",
    "出力層のノード数：3\\\n",
    "fb結合重み行列：3×5\\\n",
    "出力される結果：3×1"
   ]
  },
  {
   "cell_type": "code",
   "execution_count": 31,
   "id": "d99e0b4d",
   "metadata": {},
   "outputs": [
    {
     "data": {
      "text/plain": [
       "array([[1.17057819],\n",
       "       [4.93649235],\n",
       "       [0.22243081]])"
      ]
     },
     "execution_count": 31,
     "metadata": {},
     "output_type": "execute_result"
    }
   ],
   "source": [
    "### 出力層からのデータの作成\n",
    "data = np.arange(1,6)\n",
    "\n",
    "### 二次元データに変換：5 → 5×1\n",
    "data = data.reshape(-1,1)\n",
    "\n",
    "### 各パラメータの設定\n",
    "Ny, Nx = data.shape[0], 3\n",
    "fb_scale = 1\n",
    "\n",
    "### Output関数実行\n",
    "Feedback(data,Nx,Ny,fb_scale)"
   ]
  },
  {
   "cell_type": "code",
   "execution_count": null,
   "id": "c3fbf206",
   "metadata": {},
   "outputs": [],
   "source": []
  },
  {
   "cell_type": "code",
   "execution_count": null,
   "id": "71535d82",
   "metadata": {},
   "outputs": [],
   "source": []
  },
  {
   "cell_type": "code",
   "execution_count": null,
   "id": "ef255595",
   "metadata": {},
   "outputs": [],
   "source": []
  },
  {
   "cell_type": "code",
   "execution_count": null,
   "id": "ab764846",
   "metadata": {},
   "outputs": [],
   "source": []
  },
  {
   "cell_type": "code",
   "execution_count": null,
   "id": "9e4d4af3",
   "metadata": {},
   "outputs": [],
   "source": []
  },
  {
   "cell_type": "code",
   "execution_count": null,
   "id": "a7f571fa",
   "metadata": {},
   "outputs": [],
   "source": []
  },
  {
   "cell_type": "code",
   "execution_count": null,
   "id": "de3cbe1a",
   "metadata": {},
   "outputs": [],
   "source": []
  },
  {
   "cell_type": "code",
   "execution_count": null,
   "id": "ad3d603d",
   "metadata": {},
   "outputs": [],
   "source": []
  },
  {
   "cell_type": "code",
   "execution_count": null,
   "id": "133427c3",
   "metadata": {},
   "outputs": [],
   "source": []
  },
  {
   "cell_type": "code",
   "execution_count": null,
   "id": "90a9196a",
   "metadata": {},
   "outputs": [],
   "source": []
  },
  {
   "cell_type": "code",
   "execution_count": null,
   "id": "0ebdf8d4",
   "metadata": {},
   "outputs": [],
   "source": []
  },
  {
   "cell_type": "code",
   "execution_count": null,
   "id": "b4859564",
   "metadata": {},
   "outputs": [],
   "source": []
  },
  {
   "cell_type": "code",
   "execution_count": null,
   "id": "88096825",
   "metadata": {},
   "outputs": [],
   "source": []
  },
  {
   "cell_type": "code",
   "execution_count": null,
   "id": "b3c9ce41",
   "metadata": {},
   "outputs": [],
   "source": []
  },
  {
   "cell_type": "code",
   "execution_count": null,
   "id": "cd21c5a9",
   "metadata": {},
   "outputs": [],
   "source": []
  },
  {
   "cell_type": "code",
   "execution_count": null,
   "id": "06a1682b",
   "metadata": {},
   "outputs": [],
   "source": []
  },
  {
   "cell_type": "code",
   "execution_count": null,
   "id": "4cd9c5d5",
   "metadata": {},
   "outputs": [],
   "source": []
  },
  {
   "cell_type": "code",
   "execution_count": null,
   "id": "6b81bfc3",
   "metadata": {},
   "outputs": [],
   "source": []
  },
  {
   "cell_type": "code",
   "execution_count": null,
   "id": "f01807af",
   "metadata": {},
   "outputs": [],
   "source": []
  },
  {
   "cell_type": "code",
   "execution_count": null,
   "id": "973e1280",
   "metadata": {},
   "outputs": [],
   "source": []
  },
  {
   "cell_type": "code",
   "execution_count": null,
   "id": "eac6b079",
   "metadata": {},
   "outputs": [],
   "source": []
  },
  {
   "cell_type": "code",
   "execution_count": null,
   "id": "b10cbd01",
   "metadata": {},
   "outputs": [],
   "source": []
  },
  {
   "cell_type": "code",
   "execution_count": null,
   "id": "6adc0f95",
   "metadata": {},
   "outputs": [],
   "source": []
  },
  {
   "cell_type": "code",
   "execution_count": null,
   "id": "81ca79ad",
   "metadata": {},
   "outputs": [],
   "source": []
  },
  {
   "cell_type": "code",
   "execution_count": null,
   "id": "29a35d0e",
   "metadata": {},
   "outputs": [],
   "source": []
  },
  {
   "cell_type": "code",
   "execution_count": null,
   "id": "f0689b87",
   "metadata": {},
   "outputs": [],
   "source": []
  },
  {
   "cell_type": "code",
   "execution_count": null,
   "id": "ce84ca3c",
   "metadata": {},
   "outputs": [],
   "source": []
  },
  {
   "cell_type": "code",
   "execution_count": null,
   "id": "263ea475",
   "metadata": {},
   "outputs": [],
   "source": []
  },
  {
   "cell_type": "code",
   "execution_count": null,
   "id": "8db384b0",
   "metadata": {},
   "outputs": [],
   "source": []
  },
  {
   "cell_type": "code",
   "execution_count": null,
   "id": "1ecad908",
   "metadata": {},
   "outputs": [],
   "source": []
  },
  {
   "cell_type": "code",
   "execution_count": null,
   "id": "6a60dfa8",
   "metadata": {},
   "outputs": [],
   "source": []
  },
  {
   "cell_type": "code",
   "execution_count": null,
   "id": "766299fe",
   "metadata": {},
   "outputs": [],
   "source": []
  },
  {
   "cell_type": "code",
   "execution_count": null,
   "id": "cc754244",
   "metadata": {},
   "outputs": [],
   "source": []
  },
  {
   "cell_type": "code",
   "execution_count": null,
   "id": "6f1f80c8",
   "metadata": {},
   "outputs": [],
   "source": []
  },
  {
   "cell_type": "code",
   "execution_count": null,
   "id": "3dc1d9b0",
   "metadata": {},
   "outputs": [],
   "source": []
  },
  {
   "cell_type": "code",
   "execution_count": null,
   "id": "62276c9a",
   "metadata": {},
   "outputs": [],
   "source": []
  },
  {
   "cell_type": "code",
   "execution_count": null,
   "id": "da76c8d9",
   "metadata": {},
   "outputs": [],
   "source": []
  },
  {
   "cell_type": "code",
   "execution_count": null,
   "id": "b434e0e8",
   "metadata": {},
   "outputs": [],
   "source": []
  },
  {
   "cell_type": "code",
   "execution_count": null,
   "id": "c8c52668",
   "metadata": {},
   "outputs": [],
   "source": []
  }
 ],
 "metadata": {
  "kernelspec": {
   "display_name": "Python 3",
   "language": "python",
   "name": "python3"
  },
  "language_info": {
   "codemirror_mode": {
    "name": "ipython",
    "version": 3
   },
   "file_extension": ".py",
   "mimetype": "text/x-python",
   "name": "python",
   "nbconvert_exporter": "python",
   "pygments_lexer": "ipython3",
   "version": "3.8.8"
  }
 },
 "nbformat": 4,
 "nbformat_minor": 5
}
